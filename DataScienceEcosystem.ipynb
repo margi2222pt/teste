{
 "cells": [
  {
   "cell_type": "markdown",
   "id": "4a61a172-f41d-4786-875b-dae02cc3ed1a",
   "metadata": {},
   "source": [
    "# Data Science Tools and Ecosystem"
   ]
  },
  {
   "cell_type": "markdown",
   "id": "073472d9-b8fd-44fd-ac52-b4b60e4dc653",
   "metadata": {},
   "source": [
    "*In this notebook, you will find some important aspects used in data science on a daily basis, such as language, libraries, tools, and functionalities used*"
   ]
  },
  {
   "cell_type": "markdown",
   "id": "eadd71ab-62ad-4a5d-9687-c53635585a97",
   "metadata": {},
   "source": [
    "Languages:\n",
    "1. Phyton \n",
    "2. Julia\n",
    "3. R\n",
    "4. C++"
   ]
  },
  {
   "cell_type": "markdown",
   "id": "3b215886-6c78-4d98-8b9b-0ffcb88e3346",
   "metadata": {},
   "source": [
    "Some Phyton libraries: \n",
    "- Pandas\n",
    "- NonPy\n",
    "- TensorFlow"
   ]
  },
  {
   "cell_type": "markdown",
   "id": "bae014d0-5b79-4fe5-8cc5-4e047b4387bc",
   "metadata": {},
   "source": [
    "Some Tools:"
   ]
  },
  {
   "cell_type": "markdown",
   "id": "8643c363-236b-4b84-9e9e-ac06cfc5850f",
   "metadata": {},
   "source": [
    "| Jupiter Notebook | Git Hub | Whatson Studio |\n",
    "|----------|----------|----------|\n",
    "| Data Analysis  | Storage   | Game Development   |\n",
    "| Interactive Visualization  | Collaboration   | Design  |\n",
    "| Code Development  | Management   | Creation   |"
   ]
  },
  {
   "cell_type": "markdown",
   "id": "3d363da2-4efb-470e-9a2e-5b104145970d",
   "metadata": {},
   "source": [
    "Some arithmetic expression:\n",
    "- Sum\n",
    "- Subtraction \n",
    "- Division"
   ]
  },
  {
   "cell_type": "markdown",
   "id": "f4176ca7-b4bd-464b-9512-6a38be56eaef",
   "metadata": {},
   "source": [
    "This is a simple arithmetic expression to multiply and then add integers:"
   ]
  },
  {
   "cell_type": "code",
   "execution_count": 24,
   "id": "2d95ecd7-98a4-426d-838f-d0c2c40863d9",
   "metadata": {},
   "outputs": [
    {
     "data": {
      "text/plain": [
       "17"
      ]
     },
     "execution_count": 24,
     "metadata": {},
     "output_type": "execute_result"
    }
   ],
   "source": [
    "(3*4)+5"
   ]
  },
  {
   "cell_type": "markdown",
   "id": "bbc57e4d-3923-4c86-a433-79fc040b2bca",
   "metadata": {},
   "source": [
    "I don't know how to implement the code to use a 'simple rule of three.' I think it would be appropriate, for example, to use the rule where 60 minutes = 1 hour, and then for 120 minutes = X. So, X = (120 minutes * 1 hour) / 60 minutes = 2 hours, for example."
   ]
  },
  {
   "cell_type": "markdown",
   "id": "4b10f5d6-3bad-476b-895d-7d1c3be7f9c0",
   "metadata": {},
   "source": [
    "### Margarida Trindade"
   ]
  },
  {
   "cell_type": "code",
   "execution_count": null,
   "id": "9715e77d-6886-4c25-a653-a8e83e0e7f19",
   "metadata": {},
   "outputs": [],
   "source": []
  }
 ],
 "metadata": {
  "kernelspec": {
   "display_name": "Python 3 (ipykernel)",
   "language": "python",
   "name": "python3"
  },
  "language_info": {
   "codemirror_mode": {
    "name": "ipython",
    "version": 3
   },
   "file_extension": ".py",
   "mimetype": "text/x-python",
   "name": "python",
   "nbconvert_exporter": "python",
   "pygments_lexer": "ipython3",
   "version": "3.12.8"
  }
 },
 "nbformat": 4,
 "nbformat_minor": 5
}
